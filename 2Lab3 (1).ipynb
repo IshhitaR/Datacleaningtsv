{
  "nbformat": 4,
  "nbformat_minor": 0,
  "metadata": {
    "colab": {
      "provenance": []
    },
    "kernelspec": {
      "name": "python3",
      "display_name": "Python 3"
    },
    "language_info": {
      "name": "python"
    }
  },
  "cells": [
    {
      "cell_type": "code",
      "execution_count": 1,
      "metadata": {
        "id": "6ZoX_3mqgQ5H"
      },
      "outputs": [],
      "source": [
        "import numpy as np\n",
        "import pandas as pd\n",
        "\n",
        "data = pd.read_csv(\"/content/chipotle.tsv\",sep='\\t')"
      ]
    },
    {
      "cell_type": "code",
      "source": [
        "data.info()"
      ],
      "metadata": {
        "colab": {
          "base_uri": "https://localhost:8080/"
        },
        "id": "xn6aQHrYjF3x",
        "outputId": "b3906687-21ef-4d82-8a21-c860675120bf"
      },
      "execution_count": 2,
      "outputs": [
        {
          "output_type": "stream",
          "name": "stdout",
          "text": [
            "<class 'pandas.core.frame.DataFrame'>\n",
            "RangeIndex: 4622 entries, 0 to 4621\n",
            "Data columns (total 5 columns):\n",
            " #   Column              Non-Null Count  Dtype \n",
            "---  ------              --------------  ----- \n",
            " 0   order_id            4622 non-null   int64 \n",
            " 1   quantity            4622 non-null   int64 \n",
            " 2   item_name           4622 non-null   object\n",
            " 3   choice_description  3376 non-null   object\n",
            " 4   item_price          4622 non-null   object\n",
            "dtypes: int64(2), object(3)\n",
            "memory usage: 180.7+ KB\n"
          ]
        }
      ]
    },
    {
      "cell_type": "code",
      "source": [
        "data.dtypes"
      ],
      "metadata": {
        "colab": {
          "base_uri": "https://localhost:8080/"
        },
        "id": "y9UoqPKCuuSy",
        "outputId": "2c8fc796-d10b-4b46-fd66-a245cf2b1e90"
      },
      "execution_count": 3,
      "outputs": [
        {
          "output_type": "execute_result",
          "data": {
            "text/plain": [
              "order_id               int64\n",
              "quantity               int64\n",
              "item_name             object\n",
              "choice_description    object\n",
              "item_price            object\n",
              "dtype: object"
            ]
          },
          "metadata": {},
          "execution_count": 3
        }
      ]
    },
    {
      "cell_type": "code",
      "source": [
        "data.isna().sum()"
      ],
      "metadata": {
        "colab": {
          "base_uri": "https://localhost:8080/"
        },
        "id": "SCWL8atTjKk2",
        "outputId": "b5ec52b6-68c7-405d-e5dd-618b2ffa415d"
      },
      "execution_count": 4,
      "outputs": [
        {
          "output_type": "execute_result",
          "data": {
            "text/plain": [
              "order_id                 0\n",
              "quantity                 0\n",
              "item_name                0\n",
              "choice_description    1246\n",
              "item_price               0\n",
              "dtype: int64"
            ]
          },
          "metadata": {},
          "execution_count": 4
        }
      ]
    },
    {
      "cell_type": "code",
      "source": [
        "data.columns"
      ],
      "metadata": {
        "colab": {
          "base_uri": "https://localhost:8080/"
        },
        "id": "WHGtRN1qjmJ4",
        "outputId": "c388bdfc-7e8b-4edb-a9e5-88b454e85013"
      },
      "execution_count": 5,
      "outputs": [
        {
          "output_type": "execute_result",
          "data": {
            "text/plain": [
              "Index(['order_id', 'quantity', 'item_name', 'choice_description',\n",
              "       'item_price'],\n",
              "      dtype='object')"
            ]
          },
          "metadata": {},
          "execution_count": 5
        }
      ]
    },
    {
      "cell_type": "code",
      "source": [
        "data.order_id.isna().sum()"
      ],
      "metadata": {
        "colab": {
          "base_uri": "https://localhost:8080/"
        },
        "id": "aiiTssjNjve_",
        "outputId": "586bb4c3-ab7b-490e-e2fa-8b0f3c71fc52"
      },
      "execution_count": 6,
      "outputs": [
        {
          "output_type": "execute_result",
          "data": {
            "text/plain": [
              "0"
            ]
          },
          "metadata": {},
          "execution_count": 6
        }
      ]
    },
    {
      "cell_type": "code",
      "source": [
        "data.order_id.duplicated().sum()"
      ],
      "metadata": {
        "colab": {
          "base_uri": "https://localhost:8080/"
        },
        "id": "CIv8SKfKlc-U",
        "outputId": "d34dcac0-53d3-4d5a-d86f-9fa22eab909c"
      },
      "execution_count": 7,
      "outputs": [
        {
          "output_type": "execute_result",
          "data": {
            "text/plain": [
              "2788"
            ]
          },
          "metadata": {},
          "execution_count": 7
        }
      ]
    },
    {
      "cell_type": "code",
      "source": [
        "data.drop_duplicates('order_id', inplace=True)"
      ],
      "metadata": {
        "id": "5eOEJPiumdNk"
      },
      "execution_count": 8,
      "outputs": []
    },
    {
      "cell_type": "code",
      "source": [
        "data.order_id"
      ],
      "metadata": {
        "colab": {
          "base_uri": "https://localhost:8080/"
        },
        "id": "bEggz6nqmxYD",
        "outputId": "e471de84-8a59-4890-e827-8662ed8cce82"
      },
      "execution_count": 9,
      "outputs": [
        {
          "output_type": "execute_result",
          "data": {
            "text/plain": [
              "0          1\n",
              "4          2\n",
              "5          3\n",
              "7          4\n",
              "9          5\n",
              "        ... \n",
              "4610    1830\n",
              "4612    1831\n",
              "4615    1832\n",
              "4617    1833\n",
              "4619    1834\n",
              "Name: order_id, Length: 1834, dtype: int64"
            ]
          },
          "metadata": {},
          "execution_count": 9
        }
      ]
    },
    {
      "cell_type": "code",
      "source": [
        "data.quantity.isna().sum()"
      ],
      "metadata": {
        "colab": {
          "base_uri": "https://localhost:8080/"
        },
        "id": "vxw0-PvEnpuB",
        "outputId": "7c4cca46-61bc-4b3f-ee69-d4f30bbfee15"
      },
      "execution_count": 10,
      "outputs": [
        {
          "output_type": "execute_result",
          "data": {
            "text/plain": [
              "0"
            ]
          },
          "metadata": {},
          "execution_count": 10
        }
      ]
    },
    {
      "cell_type": "code",
      "source": [
        "data.CHOICE_DESCRIPTION = data.CHOICE_DESCRIPTION.str.replace(\"[\", \" \").str.replace(\"]\", \" \").str.strip()\n",
        "data.CHOICE_DESCRIPTION"
      ],
      "metadata": {
        "colab": {
          "base_uri": "https://localhost:8080/"
        },
        "id": "8fc0TO8KcRVV",
        "outputId": "0e3653ef-a100-448d-d107-333409028ffd"
      },
      "execution_count": 43,
      "outputs": [
        {
          "output_type": "stream",
          "name": "stderr",
          "text": [
            "<ipython-input-43-798774f2a3f5>:1: FutureWarning: The default value of regex will change from True to False in a future version. In addition, single character regular expressions will *not* be treated as literal strings when regex=True.\n",
            "  data.CHOICE_DESCRIPTION = data.CHOICE_DESCRIPTION.str.replace(\"[\", \" \").str.replace(\"]\", \" \").str.strip()\n"
          ]
        },
        {
          "output_type": "execute_result",
          "data": {
            "text/plain": [
              "0                                                     NaN\n",
              "4       Tomatillo-Red Chili Salsa (Hot),  Black Beans,...\n",
              "5       Fresh Tomato Salsa (Mild),  Rice, Cheese, Sour...\n",
              "7       Tomatillo Red Chili Salsa,  Fajita Vegetables,...\n",
              "9       Fresh Tomato Salsa,  Rice, Black Beans, Pinto ...\n",
              "                              ...                        \n",
              "4610    Fresh Tomato Salsa,  Rice, Sour Cream, Cheese,...\n",
              "4612    Fresh Tomato Salsa,  Fajita Vegetables, Rice, ...\n",
              "4615        Fresh Tomato Salsa,  Rice, Cheese, Sour Cream\n",
              "4617    Fresh Tomato Salsa,  Rice, Black Beans, Sour C...\n",
              "4619    Fresh Tomato Salsa,  Fajita Vegetables, Pinto ...\n",
              "Name: CHOICE_DESCRIPTION, Length: 1834, dtype: object"
            ]
          },
          "metadata": {},
          "execution_count": 43
        }
      ]
    },
    {
      "cell_type": "code",
      "source": [
        "data.ITEM_PRICE =data.ITEM_PRICE.str.replace(\"$\", \" \")\n",
        "data.ITEM_PRICE"
      ],
      "metadata": {
        "colab": {
          "base_uri": "https://localhost:8080/"
        },
        "id": "HqvkoLGDYI8z",
        "outputId": "257b2535-7e2c-416b-d5fa-2460c23b419c"
      },
      "execution_count": 47,
      "outputs": [
        {
          "output_type": "stream",
          "name": "stderr",
          "text": [
            "<ipython-input-47-c014e8c7f389>:1: FutureWarning: The default value of regex will change from True to False in a future version. In addition, single character regular expressions will *not* be treated as literal strings when regex=True.\n",
            "  data.ITEM_PRICE =data.ITEM_PRICE.str.replace(\"$\", \" \")\n"
          ]
        },
        {
          "output_type": "execute_result",
          "data": {
            "text/plain": [
              "0         2.39 \n",
              "4        16.98 \n",
              "5        10.98 \n",
              "7        11.75 \n",
              "9         9.25 \n",
              "         ...   \n",
              "4610     11.75 \n",
              "4612      9.25 \n",
              "4615      8.75 \n",
              "4617     11.75 \n",
              "4619     11.25 \n",
              "Name: ITEM_PRICE, Length: 1834, dtype: object"
            ]
          },
          "metadata": {},
          "execution_count": 47
        }
      ]
    },
    {
      "cell_type": "code",
      "source": [
        "data.columns = data.columns.str.upper().str.strip()\n",
        "data.columns"
      ],
      "metadata": {
        "colab": {
          "base_uri": "https://localhost:8080/"
        },
        "id": "SdJVW4bcXYtd",
        "outputId": "29545ee2-495e-4af9-b4b3-71a15ef4a34d"
      },
      "execution_count": 26,
      "outputs": [
        {
          "output_type": "execute_result",
          "data": {
            "text/plain": [
              "Index(['ORDER_ID', 'QUANTITY', 'ITEM_NAME', 'CHOICE_DESCRIPTION',\n",
              "       'ITEM_PRICE'],\n",
              "      dtype='object')"
            ]
          },
          "metadata": {},
          "execution_count": 26
        }
      ]
    },
    {
      "cell_type": "markdown",
      "source": [
        "Quantity of each item"
      ],
      "metadata": {
        "id": "OuDynaNzWoup"
      }
    },
    {
      "cell_type": "code",
      "source": [
        "data.groupby('ITEM_NAME')['QUANTITY'].sum()"
      ],
      "metadata": {
        "colab": {
          "base_uri": "https://localhost:8080/"
        },
        "id": "0Lslf9-Jyrr7",
        "outputId": "53d8839b-fcf2-4d8a-d59f-c296806d6446"
      },
      "execution_count": 21,
      "outputs": [
        {
          "output_type": "execute_result",
          "data": {
            "text/plain": [
              "ITEM_NAME\n",
              "6 Pack Soft Drink                         11\n",
              "Barbacoa Bowl                             41\n",
              "Barbacoa Burrito                          51\n",
              "Barbacoa Crispy Tacos                      3\n",
              "Barbacoa Salad Bowl                        3\n",
              "Barbacoa Soft Tacos                       11\n",
              "Bottled Water                             33\n",
              "Bowl                                       4\n",
              "Burrito                                    3\n",
              "Canned Soda                               15\n",
              "Canned Soft Drink                         48\n",
              "Carnitas Bowl                             38\n",
              "Carnitas Burrito                          36\n",
              "Carnitas Crispy Tacos                      2\n",
              "Carnitas Salad                             1\n",
              "Carnitas Salad Bowl                        1\n",
              "Carnitas Soft Tacos                       13\n",
              "Chicken Bowl                             501\n",
              "Chicken Burrito                          369\n",
              "Chicken Crispy Tacos                      12\n",
              "Chicken Salad                              6\n",
              "Chicken Salad Bowl                        72\n",
              "Chicken Soft Tacos                        42\n",
              "Chips                                      8\n",
              "Chips and Fresh Tomato Salsa              19\n",
              "Chips and Guacamole                       87\n",
              "Chips and Roasted Chili Corn Salsa         2\n",
              "Chips and Tomatillo Green Chili Salsa      2\n",
              "Chips and Tomatillo Red Chili Salsa        2\n",
              "Chips and Tomatillo-Green Chili Salsa      8\n",
              "Izze                                       1\n",
              "Nantucket Nectar                           6\n",
              "Salad                                      1\n",
              "Side of Chips                             14\n",
              "Steak Bowl                               117\n",
              "Steak Burrito                            246\n",
              "Steak Crispy Tacos                        15\n",
              "Steak Salad                                2\n",
              "Steak Salad Bowl                          16\n",
              "Steak Soft Tacos                          25\n",
              "Veggie Bowl                               40\n",
              "Veggie Burrito                            54\n",
              "Veggie Salad                               2\n",
              "Veggie Salad Bowl                          9\n",
              "Veggie Soft Tacos                          1\n",
              "Name: QUANTITY, dtype: int64"
            ]
          },
          "metadata": {},
          "execution_count": 21
        }
      ]
    },
    {
      "cell_type": "markdown",
      "source": [
        "2. Most ordered item:"
      ],
      "metadata": {
        "id": "XNaBn342aba1"
      }
    },
    {
      "cell_type": "code",
      "source": [
        "data['CHOICE_DESCRIPTION'].value_counts().idxmax()"
      ],
      "metadata": {
        "colab": {
          "base_uri": "https://localhost:8080/",
          "height": 36
        },
        "id": "gE4k2nXZWjwq",
        "outputId": "3727399b-fd8b-43f7-874c-c02b2c90f9ec"
      },
      "execution_count": 31,
      "outputs": [
        {
          "output_type": "execute_result",
          "data": {
            "text/plain": [
              "'[Fresh Tomato Salsa, [Rice, Black Beans, Cheese, Sour Cream, Lettuce]]'"
            ],
            "application/vnd.google.colaboratory.intrinsic+json": {
              "type": "string"
            }
          },
          "metadata": {},
          "execution_count": 31
        }
      ]
    },
    {
      "cell_type": "markdown",
      "source": [
        "3. Total items ordered:"
      ],
      "metadata": {
        "id": "K1m5GaAmaUPq"
      }
    },
    {
      "cell_type": "code",
      "source": [
        "data['QUANTITY'].sum()"
      ],
      "metadata": {
        "colab": {
          "base_uri": "https://localhost:8080/"
        },
        "id": "i3pv0X7dZ4QY",
        "outputId": "9ed7270c-be7a-49fb-e6b7-9e7bc2fbf3b5"
      },
      "execution_count": 34,
      "outputs": [
        {
          "output_type": "execute_result",
          "data": {
            "text/plain": [
              "1993"
            ]
          },
          "metadata": {},
          "execution_count": 34
        }
      ]
    },
    {
      "cell_type": "markdown",
      "source": [
        "4. Total revenue:"
      ],
      "metadata": {
        "id": "rHCOzIaTaEIK"
      }
    },
    {
      "cell_type": "code",
      "source": [
        "data['QUANTITY'] * data['ITEM_PRICE'].astype(float).sum()"
      ],
      "metadata": {
        "colab": {
          "base_uri": "https://localhost:8080/"
        },
        "id": "Poh270lIaBLz",
        "outputId": "e26bd215-1195-40a7-ebb0-186002504765"
      },
      "execution_count": 35,
      "outputs": [
        {
          "output_type": "execute_result",
          "data": {
            "text/plain": [
              "0       17678.05\n",
              "4       35356.10\n",
              "5       17678.05\n",
              "7       17678.05\n",
              "9       17678.05\n",
              "          ...   \n",
              "4610    17678.05\n",
              "4612    17678.05\n",
              "4615    17678.05\n",
              "4617    17678.05\n",
              "4619    17678.05\n",
              "Name: QUANTITY, Length: 1834, dtype: float64"
            ]
          },
          "metadata": {},
          "execution_count": 35
        }
      ]
    },
    {
      "cell_type": "markdown",
      "source": [
        "5. Number of orders:"
      ],
      "metadata": {
        "id": "qgbKYn_faftO"
      }
    },
    {
      "cell_type": "code",
      "source": [
        "data['ORDER_ID'].nunique()"
      ],
      "metadata": {
        "colab": {
          "base_uri": "https://localhost:8080/"
        },
        "id": "rn8yayp4ajG6",
        "outputId": "00bb688b-828a-4a7d-d2f0-efec141c566d"
      },
      "execution_count": 36,
      "outputs": [
        {
          "output_type": "execute_result",
          "data": {
            "text/plain": [
              "1834"
            ]
          },
          "metadata": {},
          "execution_count": 36
        }
      ]
    },
    {
      "cell_type": "markdown",
      "source": [
        "6. Average revenue per order:"
      ],
      "metadata": {
        "id": "kGdSuMtzbCZK"
      }
    },
    {
      "cell_type": "code",
      "source": [
        "data['QUANTITY'] * data['ITEM_PRICE'].astype(float).sum() / data['ORDER_ID'].nunique()"
      ],
      "metadata": {
        "colab": {
          "base_uri": "https://localhost:8080/"
        },
        "id": "LSzSxY1Kar79",
        "outputId": "0b39a0d8-0b0c-4c9d-f07f-dd0402fb2292"
      },
      "execution_count": 37,
      "outputs": [
        {
          "output_type": "execute_result",
          "data": {
            "text/plain": [
              "0        9.639068\n",
              "4       19.278135\n",
              "5        9.639068\n",
              "7        9.639068\n",
              "9        9.639068\n",
              "          ...    \n",
              "4610     9.639068\n",
              "4612     9.639068\n",
              "4615     9.639068\n",
              "4617     9.639068\n",
              "4619     9.639068\n",
              "Name: QUANTITY, Length: 1834, dtype: float64"
            ]
          },
          "metadata": {},
          "execution_count": 37
        }
      ]
    },
    {
      "cell_type": "markdown",
      "source": [
        "7. Number of different items:"
      ],
      "metadata": {
        "id": "MJABB51dbDyB"
      }
    },
    {
      "cell_type": "code",
      "source": [
        "data['ITEM_NAME'].nunique()"
      ],
      "metadata": {
        "colab": {
          "base_uri": "https://localhost:8080/"
        },
        "id": "SzeL18_GbGtp",
        "outputId": "160b8b80-059b-453f-9dd9-633deb4ac535"
      },
      "execution_count": 38,
      "outputs": [
        {
          "output_type": "execute_result",
          "data": {
            "text/plain": [
              "45"
            ]
          },
          "metadata": {},
          "execution_count": 38
        }
      ]
    },
    {
      "cell_type": "code",
      "source": [
        "data.to_csv(\"cleaned_data.csv\", index=False, sep=\",\")"
      ],
      "metadata": {
        "id": "8m-hX0h1bdT4"
      },
      "execution_count": 39,
      "outputs": []
    },
    {
      "cell_type": "code",
      "source": [
        "data.head()"
      ],
      "metadata": {
        "colab": {
          "base_uri": "https://localhost:8080/",
          "height": 206
        },
        "id": "IvDXpI_OcvoU",
        "outputId": "ac359f67-2068-4be9-923e-ba7219fa086e"
      },
      "execution_count": 45,
      "outputs": [
        {
          "output_type": "execute_result",
          "data": {
            "text/plain": [
              "   ORDER_ID  QUANTITY                     ITEM_NAME  \\\n",
              "0         1         1  Chips and Fresh Tomato Salsa   \n",
              "4         2         2                  Chicken Bowl   \n",
              "5         3         1                  Chicken Bowl   \n",
              "7         4         1                 Steak Burrito   \n",
              "9         5         1                 Steak Burrito   \n",
              "\n",
              "                                  CHOICE_DESCRIPTION ITEM_PRICE  \n",
              "0                                                NaN      2.39   \n",
              "4  Tomatillo-Red Chili Salsa (Hot),  Black Beans,...     16.98   \n",
              "5  Fresh Tomato Salsa (Mild),  Rice, Cheese, Sour...     10.98   \n",
              "7  Tomatillo Red Chili Salsa,  Fajita Vegetables,...     11.75   \n",
              "9  Fresh Tomato Salsa,  Rice, Black Beans, Pinto ...      9.25   "
            ],
            "text/html": [
              "\n",
              "  <div id=\"df-91a6c415-7f90-43da-8955-cbd60836d462\" class=\"colab-df-container\">\n",
              "    <div>\n",
              "<style scoped>\n",
              "    .dataframe tbody tr th:only-of-type {\n",
              "        vertical-align: middle;\n",
              "    }\n",
              "\n",
              "    .dataframe tbody tr th {\n",
              "        vertical-align: top;\n",
              "    }\n",
              "\n",
              "    .dataframe thead th {\n",
              "        text-align: right;\n",
              "    }\n",
              "</style>\n",
              "<table border=\"1\" class=\"dataframe\">\n",
              "  <thead>\n",
              "    <tr style=\"text-align: right;\">\n",
              "      <th></th>\n",
              "      <th>ORDER_ID</th>\n",
              "      <th>QUANTITY</th>\n",
              "      <th>ITEM_NAME</th>\n",
              "      <th>CHOICE_DESCRIPTION</th>\n",
              "      <th>ITEM_PRICE</th>\n",
              "    </tr>\n",
              "  </thead>\n",
              "  <tbody>\n",
              "    <tr>\n",
              "      <th>0</th>\n",
              "      <td>1</td>\n",
              "      <td>1</td>\n",
              "      <td>Chips and Fresh Tomato Salsa</td>\n",
              "      <td>NaN</td>\n",
              "      <td>2.39</td>\n",
              "    </tr>\n",
              "    <tr>\n",
              "      <th>4</th>\n",
              "      <td>2</td>\n",
              "      <td>2</td>\n",
              "      <td>Chicken Bowl</td>\n",
              "      <td>Tomatillo-Red Chili Salsa (Hot),  Black Beans,...</td>\n",
              "      <td>16.98</td>\n",
              "    </tr>\n",
              "    <tr>\n",
              "      <th>5</th>\n",
              "      <td>3</td>\n",
              "      <td>1</td>\n",
              "      <td>Chicken Bowl</td>\n",
              "      <td>Fresh Tomato Salsa (Mild),  Rice, Cheese, Sour...</td>\n",
              "      <td>10.98</td>\n",
              "    </tr>\n",
              "    <tr>\n",
              "      <th>7</th>\n",
              "      <td>4</td>\n",
              "      <td>1</td>\n",
              "      <td>Steak Burrito</td>\n",
              "      <td>Tomatillo Red Chili Salsa,  Fajita Vegetables,...</td>\n",
              "      <td>11.75</td>\n",
              "    </tr>\n",
              "    <tr>\n",
              "      <th>9</th>\n",
              "      <td>5</td>\n",
              "      <td>1</td>\n",
              "      <td>Steak Burrito</td>\n",
              "      <td>Fresh Tomato Salsa,  Rice, Black Beans, Pinto ...</td>\n",
              "      <td>9.25</td>\n",
              "    </tr>\n",
              "  </tbody>\n",
              "</table>\n",
              "</div>\n",
              "    <div class=\"colab-df-buttons\">\n",
              "\n",
              "  <div class=\"colab-df-container\">\n",
              "    <button class=\"colab-df-convert\" onclick=\"convertToInteractive('df-91a6c415-7f90-43da-8955-cbd60836d462')\"\n",
              "            title=\"Convert this dataframe to an interactive table.\"\n",
              "            style=\"display:none;\">\n",
              "\n",
              "  <svg xmlns=\"http://www.w3.org/2000/svg\" height=\"24px\" viewBox=\"0 -960 960 960\">\n",
              "    <path d=\"M120-120v-720h720v720H120Zm60-500h600v-160H180v160Zm220 220h160v-160H400v160Zm0 220h160v-160H400v160ZM180-400h160v-160H180v160Zm440 0h160v-160H620v160ZM180-180h160v-160H180v160Zm440 0h160v-160H620v160Z\"/>\n",
              "  </svg>\n",
              "    </button>\n",
              "\n",
              "  <style>\n",
              "    .colab-df-container {\n",
              "      display:flex;\n",
              "      gap: 12px;\n",
              "    }\n",
              "\n",
              "    .colab-df-convert {\n",
              "      background-color: #E8F0FE;\n",
              "      border: none;\n",
              "      border-radius: 50%;\n",
              "      cursor: pointer;\n",
              "      display: none;\n",
              "      fill: #1967D2;\n",
              "      height: 32px;\n",
              "      padding: 0 0 0 0;\n",
              "      width: 32px;\n",
              "    }\n",
              "\n",
              "    .colab-df-convert:hover {\n",
              "      background-color: #E2EBFA;\n",
              "      box-shadow: 0px 1px 2px rgba(60, 64, 67, 0.3), 0px 1px 3px 1px rgba(60, 64, 67, 0.15);\n",
              "      fill: #174EA6;\n",
              "    }\n",
              "\n",
              "    .colab-df-buttons div {\n",
              "      margin-bottom: 4px;\n",
              "    }\n",
              "\n",
              "    [theme=dark] .colab-df-convert {\n",
              "      background-color: #3B4455;\n",
              "      fill: #D2E3FC;\n",
              "    }\n",
              "\n",
              "    [theme=dark] .colab-df-convert:hover {\n",
              "      background-color: #434B5C;\n",
              "      box-shadow: 0px 1px 3px 1px rgba(0, 0, 0, 0.15);\n",
              "      filter: drop-shadow(0px 1px 2px rgba(0, 0, 0, 0.3));\n",
              "      fill: #FFFFFF;\n",
              "    }\n",
              "  </style>\n",
              "\n",
              "    <script>\n",
              "      const buttonEl =\n",
              "        document.querySelector('#df-91a6c415-7f90-43da-8955-cbd60836d462 button.colab-df-convert');\n",
              "      buttonEl.style.display =\n",
              "        google.colab.kernel.accessAllowed ? 'block' : 'none';\n",
              "\n",
              "      async function convertToInteractive(key) {\n",
              "        const element = document.querySelector('#df-91a6c415-7f90-43da-8955-cbd60836d462');\n",
              "        const dataTable =\n",
              "          await google.colab.kernel.invokeFunction('convertToInteractive',\n",
              "                                                    [key], {});\n",
              "        if (!dataTable) return;\n",
              "\n",
              "        const docLinkHtml = 'Like what you see? Visit the ' +\n",
              "          '<a target=\"_blank\" href=https://colab.research.google.com/notebooks/data_table.ipynb>data table notebook</a>'\n",
              "          + ' to learn more about interactive tables.';\n",
              "        element.innerHTML = '';\n",
              "        dataTable['output_type'] = 'display_data';\n",
              "        await google.colab.output.renderOutput(dataTable, element);\n",
              "        const docLink = document.createElement('div');\n",
              "        docLink.innerHTML = docLinkHtml;\n",
              "        element.appendChild(docLink);\n",
              "      }\n",
              "    </script>\n",
              "  </div>\n",
              "\n",
              "\n",
              "<div id=\"df-1505bc28-b327-4721-90ab-0a7365fb2e86\">\n",
              "  <button class=\"colab-df-quickchart\" onclick=\"quickchart('df-1505bc28-b327-4721-90ab-0a7365fb2e86')\"\n",
              "            title=\"Suggest charts\"\n",
              "            style=\"display:none;\">\n",
              "\n",
              "<svg xmlns=\"http://www.w3.org/2000/svg\" height=\"24px\"viewBox=\"0 0 24 24\"\n",
              "     width=\"24px\">\n",
              "    <g>\n",
              "        <path d=\"M19 3H5c-1.1 0-2 .9-2 2v14c0 1.1.9 2 2 2h14c1.1 0 2-.9 2-2V5c0-1.1-.9-2-2-2zM9 17H7v-7h2v7zm4 0h-2V7h2v10zm4 0h-2v-4h2v4z\"/>\n",
              "    </g>\n",
              "</svg>\n",
              "  </button>\n",
              "\n",
              "<style>\n",
              "  .colab-df-quickchart {\n",
              "      --bg-color: #E8F0FE;\n",
              "      --fill-color: #1967D2;\n",
              "      --hover-bg-color: #E2EBFA;\n",
              "      --hover-fill-color: #174EA6;\n",
              "      --disabled-fill-color: #AAA;\n",
              "      --disabled-bg-color: #DDD;\n",
              "  }\n",
              "\n",
              "  [theme=dark] .colab-df-quickchart {\n",
              "      --bg-color: #3B4455;\n",
              "      --fill-color: #D2E3FC;\n",
              "      --hover-bg-color: #434B5C;\n",
              "      --hover-fill-color: #FFFFFF;\n",
              "      --disabled-bg-color: #3B4455;\n",
              "      --disabled-fill-color: #666;\n",
              "  }\n",
              "\n",
              "  .colab-df-quickchart {\n",
              "    background-color: var(--bg-color);\n",
              "    border: none;\n",
              "    border-radius: 50%;\n",
              "    cursor: pointer;\n",
              "    display: none;\n",
              "    fill: var(--fill-color);\n",
              "    height: 32px;\n",
              "    padding: 0;\n",
              "    width: 32px;\n",
              "  }\n",
              "\n",
              "  .colab-df-quickchart:hover {\n",
              "    background-color: var(--hover-bg-color);\n",
              "    box-shadow: 0 1px 2px rgba(60, 64, 67, 0.3), 0 1px 3px 1px rgba(60, 64, 67, 0.15);\n",
              "    fill: var(--button-hover-fill-color);\n",
              "  }\n",
              "\n",
              "  .colab-df-quickchart-complete:disabled,\n",
              "  .colab-df-quickchart-complete:disabled:hover {\n",
              "    background-color: var(--disabled-bg-color);\n",
              "    fill: var(--disabled-fill-color);\n",
              "    box-shadow: none;\n",
              "  }\n",
              "\n",
              "  .colab-df-spinner {\n",
              "    border: 2px solid var(--fill-color);\n",
              "    border-color: transparent;\n",
              "    border-bottom-color: var(--fill-color);\n",
              "    animation:\n",
              "      spin 1s steps(1) infinite;\n",
              "  }\n",
              "\n",
              "  @keyframes spin {\n",
              "    0% {\n",
              "      border-color: transparent;\n",
              "      border-bottom-color: var(--fill-color);\n",
              "      border-left-color: var(--fill-color);\n",
              "    }\n",
              "    20% {\n",
              "      border-color: transparent;\n",
              "      border-left-color: var(--fill-color);\n",
              "      border-top-color: var(--fill-color);\n",
              "    }\n",
              "    30% {\n",
              "      border-color: transparent;\n",
              "      border-left-color: var(--fill-color);\n",
              "      border-top-color: var(--fill-color);\n",
              "      border-right-color: var(--fill-color);\n",
              "    }\n",
              "    40% {\n",
              "      border-color: transparent;\n",
              "      border-right-color: var(--fill-color);\n",
              "      border-top-color: var(--fill-color);\n",
              "    }\n",
              "    60% {\n",
              "      border-color: transparent;\n",
              "      border-right-color: var(--fill-color);\n",
              "    }\n",
              "    80% {\n",
              "      border-color: transparent;\n",
              "      border-right-color: var(--fill-color);\n",
              "      border-bottom-color: var(--fill-color);\n",
              "    }\n",
              "    90% {\n",
              "      border-color: transparent;\n",
              "      border-bottom-color: var(--fill-color);\n",
              "    }\n",
              "  }\n",
              "</style>\n",
              "\n",
              "  <script>\n",
              "    async function quickchart(key) {\n",
              "      const quickchartButtonEl =\n",
              "        document.querySelector('#' + key + ' button');\n",
              "      quickchartButtonEl.disabled = true;  // To prevent multiple clicks.\n",
              "      quickchartButtonEl.classList.add('colab-df-spinner');\n",
              "      try {\n",
              "        const charts = await google.colab.kernel.invokeFunction(\n",
              "            'suggestCharts', [key], {});\n",
              "      } catch (error) {\n",
              "        console.error('Error during call to suggestCharts:', error);\n",
              "      }\n",
              "      quickchartButtonEl.classList.remove('colab-df-spinner');\n",
              "      quickchartButtonEl.classList.add('colab-df-quickchart-complete');\n",
              "    }\n",
              "    (() => {\n",
              "      let quickchartButtonEl =\n",
              "        document.querySelector('#df-1505bc28-b327-4721-90ab-0a7365fb2e86 button');\n",
              "      quickchartButtonEl.style.display =\n",
              "        google.colab.kernel.accessAllowed ? 'block' : 'none';\n",
              "    })();\n",
              "  </script>\n",
              "</div>\n",
              "\n",
              "    </div>\n",
              "  </div>\n"
            ],
            "application/vnd.google.colaboratory.intrinsic+json": {
              "type": "dataframe",
              "variable_name": "data",
              "summary": "{\n  \"name\": \"data\",\n  \"rows\": 1834,\n  \"fields\": [\n    {\n      \"column\": \"ORDER_ID\",\n      \"properties\": {\n        \"dtype\": \"number\",\n        \"std\": 529,\n        \"min\": 1,\n        \"max\": 1834,\n        \"num_unique_values\": 1834,\n        \"samples\": [\n          644,\n          333,\n          991\n        ],\n        \"semantic_type\": \"\",\n        \"description\": \"\"\n      }\n    },\n    {\n      \"column\": \"QUANTITY\",\n      \"properties\": {\n        \"dtype\": \"number\",\n        \"std\": 0,\n        \"min\": 1,\n        \"max\": 15,\n        \"num_unique_values\": 7,\n        \"samples\": [\n          1,\n          2,\n          15\n        ],\n        \"semantic_type\": \"\",\n        \"description\": \"\"\n      }\n    },\n    {\n      \"column\": \"ITEM_NAME\",\n      \"properties\": {\n        \"dtype\": \"category\",\n        \"num_unique_values\": 45,\n        \"samples\": [\n          \"Salad\",\n          \"Burrito\",\n          \"Chips and Tomatillo Green Chili Salsa\"\n        ],\n        \"semantic_type\": \"\",\n        \"description\": \"\"\n      }\n    },\n    {\n      \"column\": \"CHOICE_DESCRIPTION\",\n      \"properties\": {\n        \"dtype\": \"category\",\n        \"num_unique_values\": 747,\n        \"samples\": [\n          \"Fresh Tomato Salsa,  Black Beans, Cheese, Sour Cream, Lettuce\",\n          \"Fresh Tomato Salsa,  Black Beans, Pinto Beans, Cheese, Guacamole, Lettuce\",\n          \"Tomatillo-Red Chili Salsa (Hot), Lettuce\"\n        ],\n        \"semantic_type\": \"\",\n        \"description\": \"\"\n      }\n    },\n    {\n      \"column\": \"ITEM_PRICE\",\n      \"properties\": {\n        \"dtype\": \"category\",\n        \"num_unique_values\": 58,\n        \"samples\": [\n          \" 2.39 \",\n          \" 8.75 \",\n          \" 4.30 \"\n        ],\n        \"semantic_type\": \"\",\n        \"description\": \"\"\n      }\n    }\n  ]\n}"
            }
          },
          "metadata": {},
          "execution_count": 45
        }
      ]
    }
  ]
}